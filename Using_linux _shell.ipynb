{
 "cells": [
  {
   "cell_type": "markdown",
   "metadata": {},
   "source": [
    "# Information about the Data ( Example Data Set ) \n",
    "- Total RNA (TrueSeq Total RNA ribo zero )\n",
    "   - Ribosomal RNA (rRNA) constitutes the majority (>98%) of total RNA preparations. To avoid wasting sequencing        reads, it is necessary to remove this abundant RNA before preparing RNA libraries for deep sequencing. https://www.nature.com/articles/nmeth.f.352 \n",
    "- UHR (cancer) ERCC Mix 1    -- HBR (Brain) ERCC Mix 2 \n",
    "- Spike-in: transcript of known sequence and quantity used to calibrate measurements in RNA hybridization assays, so a known quantity of spike-in is mixed with the experiment sample during preparation as an internal control of known sequence and quantity.\n",
    "- read prefiltered to map Chr 22.\n",
    "- Sequencing: paired end, Hiseq, 100bp."
   ]
  },
  {
   "cell_type": "markdown",
   "metadata": {},
   "source": [
    "####  Viewing the compressed file in the linux shell. "
   ]
  },
  {
   "cell_type": "code",
   "execution_count": 22,
   "metadata": {},
   "outputs": [
    {
     "name": "stdout",
     "output_type": "stream",
     "text": [
      "@HWI-ST718_146963544:7:2201:16660:89809/1\n",
      "CAAAGAGAGAAAGAAAAGTCAATGATTTTATAGCCAGGCAAAATGACTTTCAAGTAAAAAATATAAAGCACCTTACAAACTAGTATCAAAATGCATTTCT\n",
      "+\n",
      "CCCFFFFFHHHHHJJJJJHIHIJJIJJJJJJJJJJJJIJJJJJJJJJJJJJIJJIIJJJJJJJJJJJJIIJFHHHEFFFFFEEEEEEEDDDDCDDEEDEE\n",
      "@HWI-ST718_146963544:7:2215:16531:12741/1\n",
      "CAAAATATTTTTTTTTTCTGTATATGACAAGACACACATCAGATCATAAGCTACAAGAAAACAAACAAAAAAGATATGAAAAAGATATAAAGACCTCCCC\n",
      "+\n",
      "@@@DDDDDFFFFFIIII;??::::9?99?G8;)9/8'787.)77;@==D=?;?A>D?@BDC@?CC=?BBBBB?<:4::@BBBB<?:>:@DD343<>:?BB\n",
      "@HWI-ST718_146963544:8:1103:8309:14049/1\n",
      "CACATTTCTCTGCATTTTCTCTTTACAGCAGTTTTTAAAATGTGTTTTGACCTTGTTTTTGCTATTATTTGGGATATTAAGTAAAGACATATTTTATGAG\n",
      "\n",
      "gzip: stdout: Broken pipe\n"
     ]
    }
   ],
   "source": [
    "zcat HBR_Rep1_ERCC-Mix2_Build37-ErccTranscripts-chr22.read1.fastq.gz | head"
   ]
  },
  {
   "cell_type": "markdown",
   "metadata": {},
   "source": [
    "(Zcat) is a command line utility for viewing the contents of a compressed file without literally uncompressing it.\n",
    "https://www.tecmint.com/linux-zcat-command-examples/"
   ]
  },
  {
   "cell_type": "markdown",
   "metadata": {},
   "source": [
    "# Create a Reference Genome"
   ]
  },
  {
   "cell_type": "markdown",
   "metadata": {},
   "source": [
    "In this case we are actually going to perform the analysis using only a single chromosome (chr22) and the ERCC spike-in to make it runs faster and to reduce the storage used capacity."
   ]
  },
  {
   "cell_type": "code",
   "execution_count": 1,
   "metadata": {},
   "outputs": [],
   "source": [
    "cd ~/GenomeIndices"
   ]
  },
  {
   "cell_type": "code",
   "execution_count": null,
   "metadata": {},
   "outputs": [],
   "source": [
    "wget http://genomedata.org/rnaseq-tutorial/fasta/GRCh38/chr22_with_ERCC92.fa #download refrence genome (chr 22)"
   ]
  },
  {
   "cell_type": "markdown",
   "metadata": {},
   "source": [
    "#### Reading the data content in the Reference Genome (Chr22)."
   ]
  },
  {
   "cell_type": "code",
   "execution_count": 5,
   "metadata": {
    "scrolled": true
   },
   "outputs": [
    {
     "name": "stdout",
     "output_type": "stream",
     "text": [
      ">22 dna_sm:chromosome chromosome:GRCh38:22:1:50818468:1 REF\n",
      "NNNNNNNNNNNNNNNNNNNNNNNNNNNNNNNNNNNNNNNNNNNNNNNNNNNNNNNNNNNN\n",
      "NNNNNNNNNNNNNNNNNNNNNNNNNNNNNNNNNNNNNNNNNNNNNNNNNNNNNNNNNNNN\n",
      "NNNNNNNNNNNNNNNNNNNNNNNNNNNNNNNNNNNNNNNNNNNNNNNNNNNNNNNNNNNN\n",
      "cat: write error: Broken pipe\n"
     ]
    }
   ],
   "source": [
    "cat chr22_with_ERCC92.fa | head -n 4"
   ]
  },
  {
   "cell_type": "markdown",
   "metadata": {},
   "source": [
    "- Purpose    : to view the first lines of the Reference Genome (chr22 in this case).\n",
    "- Observation: Ns at the beginning and the ends (and usually at the centromere)\n",
    "- Reason : these are highly repetitive region which cannot be recognized and most read alignments are built to know N ambiguity, so they will be ignored typically.\n",
    "- Note    :Sometimes poly A tail comes from the spike-in like in this case but normally chromosome ends with Ns also."
   ]
  },
  {
   "cell_type": "markdown",
   "metadata": {},
   "source": [
    "#### Checking the number of lines and charachters (Basepairs)."
   ]
  },
  {
   "cell_type": "code",
   "execution_count": 31,
   "metadata": {},
   "outputs": [
    {
     "name": "stdout",
     "output_type": "stream",
     "text": [
      "  848761   848764 51751056 chr22_with_ERCC92.fa\n"
     ]
    }
   ],
   "source": [
    "wc chr22_with_ERCC92.fa "
   ]
  },
  {
   "cell_type": "markdown",
   "metadata": {},
   "source": [
    "- Purpose : to know the number of lines and characters are in this file and the length of this chromosome (in bases and Mb). \n",
    "- Observation: lines 848761, words 848764, characters(bp)51751056. \n",
    "- Note    :  ERCC92 stands for spike-in."
   ]
  },
  {
   "cell_type": "markdown",
   "metadata": {},
   "source": [
    "#### Display data from almost the middle of the Chr22 file. "
   ]
  },
  {
   "cell_type": "code",
   "execution_count": 12,
   "metadata": {
    "scrolled": true
   },
   "outputs": [
    {
     "name": "stdout",
     "output_type": "stream",
     "text": [
      "ggaggctgaggcaggagaatcgcttgaacatgggaggtggaagttgcagtgagccgaaac\n",
      "tgcgccattgcactatagcctgggcaacaagagtgaaagtctgtcttgaaaaaaaaaaaT\n",
      "CAGATGTTCTATGTAAAAATGCTATCTAtgattgaagtataaaactttacctccctttat\n",
      "gttcctttgccctccccactatttattattgtcttgattatatcttctatatgcattgag\n",
      "aggtgttataacttttgtatcaatcaccaaatttaatttagaaaatataagaggagaaga\n",
      "aaagtctattacatttactcatatttttgcttactgtgttctttcttccttcttgatgtt\n",
      "ccagaatttcttttattgcttcttttctgcttagaaaactttatctttttctttcatctt\n",
      "tcttttttcctcctcctcctcctcctcctttttttttttttttttttttttttttttaat\n",
      "aaagagacagggtctcactctatcacccagactggagttcagtgatgcaatcatagctca\n",
      "ttgcaaccttgaactcctgggctcaagtgatcctcccacctcagcctcctgagtagctgg\n"
     ]
    }
   ],
   "source": [
    "head -n 425000 chr22_with_ERCC92.fa | tail "
   ]
  },
  {
   "cell_type": "raw",
   "metadata": {},
   "source": [
    "- Purpose    : to view 10 lines from approximately the middle of this file.\n",
    "- observation: some times upper-case and lower-case letters appear \n",
    "- Reason     : capital / lowercase is masking of low complexity / repetitive elements. Groups like Repeat masker have a list of these elements to do soft matching for things that are a low a complexity / repetitive element.\n",
    "- Notes :\n",
    "   - Soft Masking means a lot of the sequence in genomes are repetitive. Human genome, for example, has (at least) two-third repetitive elements.\n",
    "   - repetitive sequence : with period of 12 or less are shown in lower-case.\n",
    "   - non-repetitive sequence : shown in upper-case.\n",
    "   - masking means tell the computer and the user that there are highly repetitive elements.\n"
   ]
  },
  {
   "cell_type": "markdown",
   "metadata": {},
   "source": [
    "# Getting the annotation"
   ]
  },
  {
   "cell_type": "markdown",
   "metadata": {},
   "source": [
    "- annotation means getteing the  metadata file to combine it with the reference genome\n",
    "- make it easy to deal with the Reference genome file (similar to the catalogue at the begning of the book )\n",
    "- The annotation file is a description of where genetic element(intron, exon,..) located in the genome, in the form begin and end coordinate. https://www.biostars.org/p/99453/"
   ]
  },
  {
   "cell_type": "code",
   "execution_count": null,
   "metadata": {},
   "outputs": [],
   "source": [
    "wget http://genomedata.org/rnaseq-tutorial/annotations/GRCh38/chr22_with_ERCC92.gtf"
   ]
  },
  {
   "cell_type": "markdown",
   "metadata": {},
   "source": [
    "- notes:\n",
    "  - in this pipeline we will use annotations obtained from Ensembl (Homo_sapiens.GRCh38.86.gtf.gz) for chromosome 22 only because we have just the Chr22 as our Refernce Genome as mentioned before.\n",
    "  - (Genbank) database sometime contain both reference and annotation information.https://www.biostars.org/p/99453/"
   ]
  },
  {
   "cell_type": "markdown",
   "metadata": {},
   "source": [
    "#### Checking the first lines of the annotation file :"
   ]
  },
  {
   "cell_type": "code",
   "execution_count": 5,
   "metadata": {},
   "outputs": [
    {
     "name": "stdout",
     "output_type": "stream",
     "text": [
      "22\tensembl\tgene\t10736171\t10736283\t.\t-\t.\tgene_id \"ENSG00000277248\"; gene_version \"1\"; gene_name \"U2\"; gene_source \"ensembl\"; gene_biotype \"snRNA\";\n",
      "22\tensembl\ttranscript\t10736171\t10736283\t.\t-\t.\tgene_id \"ENSG00000277248\"; gene_version \"1\"; transcript_id \"ENST00000615943\"; transcript_version \"1\"; gene_name \"U2\"; gene_source \"ensembl\"; gene_biotype \"snRNA\"; transcript_name \"U2.14-201\"; transcript_source \"ensembl\"; transcript_biotype \"snRNA\"; tag \"basic\"; transcript_support_level \"NA\";\n"
     ]
    }
   ],
   "source": [
    " head -n2 chr22_with_ERCC92.gtf  #we can pipe this to less to view it more clearly"
   ]
  },
  {
   "cell_type": "markdown",
   "metadata": {},
   "source": [
    "#### Retrieving the Start codon   "
   ]
  },
  {
   "cell_type": "code",
   "execution_count": null,
   "metadata": {
    "scrolled": true
   },
   "outputs": [
    {
     "name": "stdout",
     "output_type": "stream",
     "text": [
      "\u001b[K\u001b[24;1H22      ensembl \u001b[7mstart_codon\u001b[27m     11066501        11066503        .       +       \n",
      "22      ensembl exon    11067985        11068089        .       +       .       \n",
      "22      ensembl CDS     11067985        11068086        .       +       0       \n",
      "22      ensembl stop_codon      11068087        11068089        .       +       \n",
      "22      havana  gene    11124337        11125705        .       +       .       \n",
      "22      havana  transcript      11124337        11125705        .       +       \n",
      "22      havana  exon    11124337        11124379        .       +       .       \n",
      "22      havana  exon    11124508        11125705        .       +       .       \n",
      "22      ensembl gene    11249809        11249959        .       -       .       \n",
      "22      ensembl transcript      11249809        11249959        .       -       \n",
      "22      ensembl exon    11249809        11249959        .       -       .       \n",
      "22      havana  gene    12602466        12626642        .       +       .       \n",
      "22      havana  transcript      12602466        12626642        .       +       \n",
      "22      havana  exon    12602466        12602527        .       +       .       \n",
      "22      havana  exon    12604670        12604739        .       +       .       \n",
      "22      havana  exon    12615409        12615534        .       +       .       \n",
      "22      havana  exon    12616314        12616371        .       +       .       \n",
      "22      havana  exon    12618171        12618289        .       +       .       \n",
      "22      havana  exon    12620838        12620938        .       +       .       \n",
      "22      havana  exon    12624242        12624331        .       +       .       \n",
      "22      havana  exon    12625317        12625428        .       +       .       \n",
      "22      havana  exon    12626607        12626642        .       +       .       \n",
      "22      ensembl gene    15273855        15273961        .       +       .       \n"
     ]
    }
   ],
   "source": [
    "less -p start_codon -S chr22_with_ERCC92.gtf \n"
   ]
  },
  {
   "cell_type": "markdown",
   "metadata": {},
   "source": [
    "#### How many unique gene IDs are in the .gtf file?"
   ]
  },
  {
   "cell_type": "markdown",
   "metadata": {},
   "source": [
    "An Ensembl gene (with a unique ENSG... ID) includes any spliced transcripts (ENST...) with overlapping coding sequence, with the exception of manually annotated readthrough genes which are annotated as a separate locus.\n",
    "https://www.ensembl.org/info/genome/genebuild/genome_annotation.html"
   ]
  },
  {
   "cell_type": "code",
   "execution_count": 2,
   "metadata": {},
   "outputs": [
    {
     "name": "stdout",
     "output_type": "stream",
     "text": [
      "  56295   56295  450360\n"
     ]
    }
   ],
   "source": [
    "grep -o gene_id chr22_with_ERCC92.gtf | wc"
   ]
  },
  {
   "cell_type": "markdown",
   "metadata": {},
   "source": [
    "This way didn't work because i got the count of all gene_ids rather than the unique_gene_id. "
   ]
  },
  {
   "cell_type": "markdown",
   "metadata": {},
   "source": [
    "#### perl command-line tool will solve this issue."
   ]
  },
  {
   "cell_type": "markdown",
   "metadata": {},
   "source": [
    "Perl is a general-purpose programming language originally developed for text manipulation . \n",
    "The output of this perl command will be a long list of ENSG Ids.\n",
    "https://www.tutorialspoint.com/perl/perl_introduction.htm"
   ]
  },
  {
   "cell_type": "code",
   "execution_count": 3,
   "metadata": {},
   "outputs": [
    {
     "name": "stdout",
     "output_type": "stream",
     "text": [
      "1318\n"
     ]
    }
   ],
   "source": [
    "perl -ne 'if ($_ =~ /(gene_id\\s\\\"ENSG\\w+\\\")/){print \"$1\\n\"}' chr22_with_ERCC92.gtf | sort | uniq | wc -l"
   ]
  },
  {
   "cell_type": "code",
   "execution_count": null,
   "metadata": {},
   "outputs": [
    {
     "name": "stdout",
     "output_type": "stream",
     "text": [
      "\u001b[K\u001b[24;1H22      ensembl \u001b[7mexon    \u001b[27m17369366        17369909        .       +       .       \n",
      "22      ensembl CDS     17369784        17369909        .       +       0       \n",
      "22      ensembl start_codon     17369784        17369786        .       +       \n",
      "22      ensembl \u001b[7mexon    \u001b[27m17477588        17477682        .       +       .       \n",
      "22      ensembl CDS     17477588        17477682        .       +       0       \n",
      "22      ensembl \u001b[7mexon    \u001b[27m17497403        17497586        .       +       .       \n",
      "22      ensembl CDS     17497403        17497586        .       +       1       \n",
      "22      ensembl \u001b[7mexon    \u001b[27m17499410        17499549        .       +       .       \n",
      "22      ensembl CDS     17499410        17499549        .       +       0       \n",
      "22      ensembl \u001b[7mexon    \u001b[27m17500631        17500735        .       +       .       \n",
      "22      ensembl CDS     17500631        17500735        .       +       1       \n",
      "22      ensembl \u001b[7mexon    \u001b[27m17503082        17503131        .       +       .       \n",
      "22      ensembl CDS     17503082        17503131        .       +       1       \n",
      "22      ensembl \u001b[7mexon    \u001b[27m17504847        17505016        .       +       .       \n",
      "22      ensembl CDS     17504847        17505016        .       +       2       \n",
      "22      ensembl \u001b[7mexon    \u001b[27m17511813        17511896        .       +       .       \n",
      "22      ensembl CDS     17511813        17511896        .       +       0       \n",
      "22      ensembl \u001b[7mexon    \u001b[27m17524118        17524327        .       +       .       \n",
      "22      ensembl CDS     17524118        17524327        .       +       0       \n",
      "22      ensembl \u001b[7mexon    \u001b[27m17534744        17534747        .       +       .       \n",
      "22      ensembl CDS     17534744        17534747        .       +       0       \n",
      "22      ensembl \u001b[7mexon    \u001b[27m17537103        17537232        .       +       .       \n",
      "22      ensembl CDS     17537103        17537232        .       +       2       \n"
     ]
    }
   ],
   "source": [
    "grep ENST00000342247 chr22_with_ERCC92.gtf | less -p \"exon\\s\" -S"
   ]
  },
  {
   "cell_type": "markdown",
   "metadata": {},
   "source": [
    "- Purpose : to view Now view the structure of a single transcript (ENST00000342247) in GTF format. \n",
    "- By piping to less and with the option -p we can pick information about exons in this script."
   ]
  },
  {
   "cell_type": "markdown",
   "metadata": {},
   "source": [
    "# Generating Index\n",
    "use a computational strategy known as ‘indexing’ to speed up their mapping algorithms. Like the index at the end of a book, an index of a large DNA sequence allows one to rapidly find shorter sequences embedded within it.\n",
    "https://www.biostars.org/p/212594/"
   ]
  },
  {
   "cell_type": "code",
   "execution_count": null,
   "metadata": {},
   "outputs": [],
   "source": [
    "STAR --runMode genomeGenerate --runThreadN 2 --genomeDir ~/GenomeIndices --genomeFastaFiles ~/GenomeIndices/chr22_with_ERCC92.fa --sjdbGTFfile ~/GenomeIndices/chr22_with_ERCC92.gtf --sjdbOverhang 99"
   ]
  },
  {
   "cell_type": "markdown",
   "metadata": {},
   "source": [
    "- Purpose: Depending on what samples we have sequenced (human, mouse etc.) we need to generate a Genome Index of the reference genome. Note: we do this once if we are going to work in the same species.\n",
    "- Reason :  Genome indexing is one type pre processing to compress the size of text and to make queries fast."
   ]
  },
  {
   "cell_type": "code",
   "execution_count": 2,
   "metadata": {},
   "outputs": [],
   "source": [
    "samtools faidx ~/GenomeIndices/chr22_with_ERCC92.fa "
   ]
  },
  {
   "cell_type": "markdown",
   "metadata": {},
   "source": [
    "SAM Tools provide various utilities for manipulating alignments , including sorting, merging, indexing and generating alignments in a per-position format. http://samtools.sourceforge.net/"
   ]
  },
  {
   "cell_type": "markdown",
   "metadata": {},
   "source": [
    "#### Creating a file with chromosome sizes."
   ]
  },
  {
   "cell_type": "code",
   "execution_count": 5,
   "metadata": {},
   "outputs": [],
   "source": [
    "cut -f1,2 ~/GenomeIndices/chr22_with_ERCC92.fa.fai > ~/GenomeIndices/hg38_chr22.chromosome.sizes"
   ]
  },
  {
   "cell_type": "markdown",
   "metadata": {},
   "source": [
    " - Purpose of generating a file with chromose sizes : \n",
    "  igv browser uses chrom.sizes files to define the chromosome lengths for a given genome. The file format is tab delimited, first column is chromosome name and second is its length. There can be more columns present, but they are ignored. https://software.broadinstitute.org/software/igv/chromSizes"
   ]
  },
  {
   "cell_type": "code",
   "execution_count": 1,
   "metadata": {},
   "outputs": [],
   "source": [
    "cd ~/GenomeIndices"
   ]
  },
  {
   "cell_type": "markdown",
   "metadata": {},
   "source": [
    "#### Generate a .fa file only containing the information of chr22 without the ERCC2 spike ins."
   ]
  },
  {
   "cell_type": "code",
   "execution_count": 7,
   "metadata": {},
   "outputs": [],
   "source": [
    "cat chr22_with_ERCC92.fa | perl -ne 'if ($_ =~ /\\>22/){$chr22=1}; if ($_ =~ /\\>ERCC/){$chr22=0}; if ($chr22){print \"$_\";}' > chr22_only.fa"
   ]
  },
  {
   "cell_type": "markdown",
   "metadata": {},
   "source": [
    "# Obtaining RNA-Seq Data"
   ]
  },
  {
   "cell_type": "code",
   "execution_count": 4,
   "metadata": {},
   "outputs": [],
   "source": [
    "cd ~/RNASeq/rawData"
   ]
  },
  {
   "cell_type": "code",
   "execution_count": null,
   "metadata": {},
   "outputs": [],
   "source": [
    "wget http://genomedata.org/rnaseq-tutorial/HBR_UHR_ERCC_ds_5pc.tar"
   ]
  },
  {
   "cell_type": "markdown",
   "metadata": {},
   "source": [
    "#### Unpack the .tar file ( the test data ) "
   ]
  },
  {
   "cell_type": "code",
   "execution_count": 8,
   "metadata": {
    "scrolled": false
   },
   "outputs": [
    {
     "name": "stdout",
     "output_type": "stream",
     "text": [
      "HBR_Rep1_ERCC-Mix2_Build37-ErccTranscripts-chr22.read1.fastq.gz\n",
      "HBR_Rep1_ERCC-Mix2_Build37-ErccTranscripts-chr22.read2.fastq.gz\n",
      "HBR_Rep2_ERCC-Mix2_Build37-ErccTranscripts-chr22.read1.fastq.gz\n",
      "HBR_Rep2_ERCC-Mix2_Build37-ErccTranscripts-chr22.read2.fastq.gz\n",
      "HBR_Rep3_ERCC-Mix2_Build37-ErccTranscripts-chr22.read1.fastq.gz\n",
      "HBR_Rep3_ERCC-Mix2_Build37-ErccTranscripts-chr22.read2.fastq.gz\n",
      "UHR_Rep1_ERCC-Mix1_Build37-ErccTranscripts-chr22.read1.fastq.gz\n",
      "UHR_Rep1_ERCC-Mix1_Build37-ErccTranscripts-chr22.read2.fastq.gz\n",
      "UHR_Rep2_ERCC-Mix1_Build37-ErccTranscripts-chr22.read1.fastq.gz\n",
      "UHR_Rep2_ERCC-Mix1_Build37-ErccTranscripts-chr22.read2.fastq.gz\n",
      "UHR_Rep3_ERCC-Mix1_Build37-ErccTranscripts-chr22.read1.fastq.gz\n",
      "UHR_Rep3_ERCC-Mix1_Build37-ErccTranscripts-chr22.read2.fastq.gz\n"
     ]
    }
   ],
   "source": [
    "tar -xvf HBR_UHR_ERCC_ds_5pc.tar"
   ]
  },
  {
   "cell_type": "markdown",
   "metadata": {},
   "source": [
    "- Observation : \n",
    "  - We have 6 pairs (12 files) because in fastq format, read 1 and read 2 of a each read pair (fragment) are stored in separate files.\n",
    "- Notes :\n",
    "  - The Linux “tar” stands for tape archive, which is used to deal with tape drives backup. \n",
    "  - The tar command used to rip a collection of files and directories into highly compressed archive file commonly called tarball or tar, gzip and bzip in Linux. https://www.tecmint.com/18-tar-command-examples-in-linux/"
   ]
  },
  {
   "cell_type": "markdown",
   "metadata": {},
   "source": [
    "####  Viewing the first two read records of a file (in fastq format each read corresponds to 4 lines of data)"
   ]
  },
  {
   "cell_type": "code",
   "execution_count": 10,
   "metadata": {
    "scrolled": true
   },
   "outputs": [
    {
     "name": "stdout",
     "output_type": "stream",
     "text": [
      "@HWI-ST718_146963544:6:1213:8996:10047/1\n",
      "CTTTTTTATTTTTGTCTGACTGGGTTGATTCAAAGGTCTGGTCTTTGAGCTCTTAAATTAGTTCTTCTATTTGGCCTAGTCTGTTGCTAAGGCTGCCAAC\n",
      "+\n",
      "CCCFFFFFHHHHGJHIIJHIHIIIFHIJJJJIJJGIBBFGEGGHIIHGGIJJIIHGGHIIIFGCGHHIIHIHHEEE?DFEFFFEEDCEEDDDDDDDBCDD\n",
      "@HWI-ST718_146963544:5:2303:11793:37095/1\n",
      "ATGAATTATAGGGCTGTATTTTAATTTTGCATTTTAAATTCCTGCAGTTTTCTTCCATCACTTTTCACCATGCATTGTATACTTGGAATTGCTTTTTGTG\n",
      "+\n",
      "@@??BDDFFF<FHEGFFGGIEBGHIIIIIBEHIIGIH<FHEFHHCHABF@DFHGGGII<DHBFGGGGBEGGIBHG@DHGIIIH@DE>CCHF:;>@BC>@@\n",
      "\n",
      "gzip: stdout: Broken pipe\n"
     ]
    }
   ],
   "source": [
    "zcat UHR_Rep1_ERCC-Mix1_Build37-ErccTranscripts-chr22.read1.fastq.gz | head -n 8"
   ]
  },
  {
   "cell_type": "markdown",
   "metadata": {},
   "source": [
    "#### Checking the number of reads in the first library "
   ]
  },
  {
   "cell_type": "code",
   "execution_count": 12,
   "metadata": {},
   "outputs": [
    {
     "name": "stdout",
     "output_type": "stream",
     "text": [
      "227392\n"
     ]
    }
   ],
   "source": [
    "zcat UHR_Rep1_ERCC-Mix1_Build37-ErccTranscripts-chr22.read1.fastq.gz | grep -P \"^\\@HWI\" | wc -l"
   ]
  },
  {
   "cell_type": "markdown",
   "metadata": {},
   "source": [
    "- we use zcat to view the contents of a compressed then piping the results to the grep command.\n",
    "- GNU grep has a -P option (perl) that can be used\n",
    "- we pipe the output of grep -P as standard output to wc -l 'wc' to do a word count ('-l' gives lines). "
   ]
  },
  {
   "cell_type": "markdown",
   "metadata": {},
   "source": [
    "# Performing quality check with the obtained data and inspect the results."
   ]
  },
  {
   "cell_type": "markdown",
   "metadata": {},
   "source": [
    "- we can use FastQC to get a sense of the data quality before alignment.\n",
    "- FastQC aims to provide a simple way to do some quality control checks on raw sequence data coming from high throughput sequencing pipelines.\n",
    "- Summary graphs and tables to quickly assess your data http://www.bioinformatics.babraham.ac.uk/projects/fastqc/"
   ]
  },
  {
   "cell_type": "markdown",
   "metadata": {},
   "source": [
    "#### Performing quality check in parallel to speed up the process"
   ]
  },
  {
   "cell_type": "code",
   "execution_count": null,
   "metadata": {},
   "outputs": [],
   "source": [
    "find . -name \"*.fastq.gz\" | parallel fastqc -o {//}/ {}"
   ]
  },
  {
   "cell_type": "markdown",
   "metadata": {},
   "source": [
    "- Notes\n",
    "  - GNU parallel is a shell tool for executing jobs in parallel http://www.gnu.org/software/parallel/\n",
    "  - FastQC can do multiple files at once, in multithreaded mode Either use the -t option (see fastqc --help) or add a     single CPU for each file, so they can be launched parallel https://github.com/SciLifeLab/Sarek/issues/631"
   ]
  },
  {
   "cell_type": "code",
   "execution_count": 14,
   "metadata": {},
   "outputs": [],
   "source": [
    "cd ~/RNASeq/rawData"
   ]
  },
  {
   "cell_type": "markdown",
   "metadata": {},
   "source": [
    "# Adapter trimming"
   ]
  },
  {
   "cell_type": "markdown",
   "metadata": {},
   "source": [
    " - Illumina FASTQ file generation pipelines include an adapter trimming option for the removal of adapter sequences from the 3’ ends of reads.\n",
    "#### Why should adapter sequence be removed?\n",
    "   - Adapter sequences should be removed from reads because they interfere with downstream analyses, such as alignment of reads to a reference.\n",
    "   - The adapters contain the sequencing primer binding sites, the index sequences, and the sites that allow library fragments to attach to the flow cell lawn. Libraries prepared with Illumina library prep kits require adapter trimming only on the 3’ ends of reads, because adapter sequences are not found on the 5’ ends.\n",
    " https://support.illumina.com/bulletins/2016/04/adapter-trimming-why-are-adapter-sequences-trimmed-from-only-the--ends-of-reads.html"
   ]
  },
  {
   "cell_type": "code",
   "execution_count": 15,
   "metadata": {},
   "outputs": [
    {
     "name": "stdout",
     "output_type": "stream",
     "text": [
      "mkdir: cannot create directory '/home/mlsi/RNASeq/rawDataTrim': File exists\n"
     ]
    },
    {
     "ename": "",
     "evalue": "1",
     "output_type": "error",
     "traceback": []
    }
   ],
   "source": [
    "mkdir ~/RNASeq/rawDataTrim"
   ]
  },
  {
   "cell_type": "code",
   "execution_count": 1,
   "metadata": {},
   "outputs": [],
   "source": [
    "cd ~/RNASeq/rawDataTrim"
   ]
  },
  {
   "cell_type": "code",
   "execution_count": null,
   "metadata": {},
   "outputs": [],
   "source": [
    "wget http://genomedata.org/rnaseq-tutorial/illumina_multiplex.fa #this step was already done"
   ]
  },
  {
   "cell_type": "markdown",
   "metadata": {},
   "source": [
    "#### Perform Adapter trimming with all .fastq.gz in the following way:"
   ]
  },
  {
   "cell_type": "code",
   "execution_count": 18,
   "metadata": {},
   "outputs": [
    {
     "name": "stdout",
     "output_type": "stream",
     "text": [
      "\u001b[0m\u001b[01;31mHBR_1_1.fastq.gz\u001b[0m  \u001b[01;31mHBR_2_2.fastq.gz\u001b[0m  \u001b[01;31mUHR_1_1.fastq.gz\u001b[0m  \u001b[01;31mUHR_2_2.fastq.gz\u001b[0m\n",
      "\u001b[01;31mHBR_1_2.fastq.gz\u001b[0m  \u001b[01;31mHBR_3_1.fastq.gz\u001b[0m  \u001b[01;31mUHR_1_2.fastq.gz\u001b[0m  \u001b[01;31mUHR_3_1.fastq.gz\u001b[0m\n",
      "\u001b[01;31mHBR_2_1.fastq.gz\u001b[0m  \u001b[01;31mHBR_3_2.fastq.gz\u001b[0m  \u001b[01;31mUHR_2_1.fastq.gz\u001b[0m  \u001b[01;31mUHR_3_2.fastq.gz\u001b[0m\n"
     ]
    }
   ],
   "source": [
    "ls *.fastq.gz"
   ]
  },
  {
   "cell_type": "markdown",
   "metadata": {},
   "source": [
    "### Flexbar – flexible barcode and adapter removal\n"
   ]
  },
  {
   "cell_type": "code",
   "execution_count": 7,
   "metadata": {},
   "outputs": [],
   "source": [
    "flexbar --adapter-min-overlap 7 --adapter-trim-end RIGHT --adapters ~/RNASeq/rawDataTrim/illumina_multiplex.fa --pre-trim-left 13 --max-uncalled 300 --min-read-length 25 --threads 2 --zip-output GZ --reads ~/RNASeq/rawData/HBR_Rep1_ERCC-Mix2_Build37-ErccTranscripts-chr22.read1.fastq.gz --reads2 ~/RNASeq/rawData/HBR_Rep1_ERCC-Mix2_Build37-ErccTranscripts-chr22.read2.fastq.gz --target ~/RNASeq/rawDataTrim/HBR_1"
   ]
  },
  {
   "cell_type": "code",
   "execution_count": 20,
   "metadata": {},
   "outputs": [],
   "source": [
    "flexbar --adapter-min-overlap 7 --adapter-trim-end RIGHT --adapters ~/RNASeq/rawDataTrim/illumina_multiplex.fa --pre-trim-left 13 --max-uncalled 300 --min-read-length 25 --threads 2 --zip-output GZ --reads ~/RNASeq/rawData/HBR_Rep2_ERCC-Mix2_Build37-ErccTranscripts-chr22.read1.fastq.gz --reads2 ~/RNASeq/rawData/HBR_Rep2_ERCC-Mix2_Build37-ErccTranscripts-chr22.read2.fastq.gz --target ~/RNASeq/rawDataTrim/HBR_2"
   ]
  },
  {
   "cell_type": "code",
   "execution_count": 21,
   "metadata": {},
   "outputs": [],
   "source": [
    "flexbar --adapter-min-overlap 7 --adapter-trim-end RIGHT --adapters ~/RNASeq/rawDataTrim/illumina_multiplex.fa --pre-trim-left 13 --max-uncalled 300 --min-read-length 25 --threads 2 --zip-output GZ --reads ~/RNASeq/rawData/HBR_Rep3_ERCC-Mix2_Build37-ErccTranscripts-chr22.read1.fastq.gz --reads2 ~/RNASeq/rawData/HBR_Rep3_ERCC-Mix2_Build37-ErccTranscripts-chr22.read2.fastq.gz --target ~/RNASeq/rawDataTrim/HBR_3"
   ]
  },
  {
   "cell_type": "code",
   "execution_count": 22,
   "metadata": {},
   "outputs": [],
   "source": [
    "flexbar --adapter-min-overlap 7 --adapter-trim-end RIGHT --adapters ~/RNASeq/rawDataTrim/illumina_multiplex.fa --pre-trim-left 13 --max-uncalled 300 --min-read-length 25 --threads 2 --zip-output GZ --reads ~/RNASeq/rawData/UHR_Rep1_ERCC-Mix1_Build37-ErccTranscripts-chr22.read1.fastq.gz --reads2 ~/RNASeq/rawData/UHR_Rep1_ERCC-Mix1_Build37-ErccTranscripts-chr22.read2.fastq.gz --target ~/RNASeq/rawDataTrim/UHR_1"
   ]
  },
  {
   "cell_type": "code",
   "execution_count": 23,
   "metadata": {},
   "outputs": [],
   "source": [
    "flexbar --adapter-min-overlap 7 --adapter-trim-end RIGHT --adapters ~/RNASeq/rawDataTrim/illumina_multiplex.fa --pre-trim-left 13 --max-uncalled 300 --min-read-length 25 --threads 2 --zip-output GZ --reads ~/RNASeq/rawData/UHR_Rep2_ERCC-Mix1_Build37-ErccTranscripts-chr22.read1.fastq.gz --reads2 ~/RNASeq/rawData/UHR_Rep2_ERCC-Mix1_Build37-ErccTranscripts-chr22.read2.fastq.gz --target ~/RNASeq/rawDataTrim/UHR_2"
   ]
  },
  {
   "cell_type": "code",
   "execution_count": 24,
   "metadata": {},
   "outputs": [],
   "source": [
    "flexbar --adapter-min-overlap 7 --adapter-trim-end RIGHT --adapters ~/RNASeq/rawDataTrim/illumina_multiplex.fa --pre-trim-left 13 --max-uncalled 300 --min-read-length 25 --threads 2 --zip-output GZ --reads ~/RNASeq/rawData/UHR_Rep3_ERCC-Mix1_Build37-ErccTranscripts-chr22.read1.fastq.gz --reads2 ~/RNASeq/rawData/UHR_Rep3_ERCC-Mix1_Build37-ErccTranscripts-chr22.read2.fastq.gz --target ~/RNASeq/rawDataTrim/UHR_3"
   ]
  },
  {
   "cell_type": "markdown",
   "metadata": {},
   "source": [
    "- Notes:\n",
    "- The program Flexbar preprocesses high-throughput sequencing data efficiently. \n",
    "- It demultiplexes barcoded runs and removes adapter sequences. \n",
    "- Several adapter removal presets for Illumina libraries are included. \n",
    "- Flexbar computes exact overlap alignments using SIMD and multicore parallelism.\n",
    "https://github.com/seqan/flexbar"
   ]
  },
  {
   "cell_type": "markdown",
   "metadata": {},
   "source": [
    "'--adapter-min-overlap 7' requires a minimum of 7 bases to match the adapter\n",
    "'--adapter-trim-end RIGHT' uses a trimming strategy to remove the adapter from the 3 prime or RIGHT end of the read\n",
    "https://github.com/griffithlab/rnaseq_tutorial/wiki/Adapter-Trim"
   ]
  },
  {
   "cell_type": "markdown",
   "metadata": {},
   "source": [
    "# STAR Alignment"
   ]
  },
  {
   "cell_type": "markdown",
   "metadata": {},
   "source": [
    "- STAR Aligner\n",
    "  - To determine where on the human genome our reads originated from, we will align our reads to the reference genome using STAR (Spliced Transcripts Alignment to a Reference). STAR is an aligner designed to specifically address many of the challenges of RNA-seq data mapping using a strategy to account for spliced alignments.\n",
    "- STAR Alignment Strategy\n",
    "  - STAR is shown to have high accuracy and outperforms other aligners by more than a factor of 50 in mapping speed, but it is memory intensive. The algorithm achieves this highly efficient mapping by performing a two-step process:\n",
    "    - Seed searching     - Clustering, stitching, and scoring.\n",
    "https://hbctraining.github.io/Intro-to-rnaseq-hpc-O2/lessons/03_alignment.html"
   ]
  },
  {
   "cell_type": "markdown",
   "metadata": {},
   "source": [
    "#### Checking the mapping folder."
   ]
  },
  {
   "cell_type": "code",
   "execution_count": 41,
   "metadata": {},
   "outputs": [],
   "source": [
    "cd ~/RNASeq/mapping"
   ]
  },
  {
   "cell_type": "markdown",
   "metadata": {},
   "source": [
    "#### Creating a mapping command "
   ]
  },
  {
   "cell_type": "code",
   "execution_count": 39,
   "metadata": {},
   "outputs": [],
   "source": [
    "cd ~/RNASeq/rawDataTrim"
   ]
  },
  {
   "cell_type": "code",
   "execution_count": 42,
   "metadata": {},
   "outputs": [
    {
     "name": "stdout",
     "output_type": "stream",
     "text": [
      "'*.bam'   \u001b[0m\u001b[01;34mHBR_1\u001b[0m   \u001b[01;34mHBR_2\u001b[0m   \u001b[01;34mHBR_3\u001b[0m   SampleNames.txt   \u001b[01;34mUHR_1\u001b[0m   \u001b[01;34mUHR_2\u001b[0m   \u001b[01;34mUHR_3\u001b[0m\n"
     ]
    }
   ],
   "source": [
    "ls"
   ]
  },
  {
   "cell_type": "code",
   "execution_count": 24,
   "metadata": {},
   "outputs": [],
   "source": [
    "parallel -j 1 echo {1}_{2} ::: UHR HBR ::: 1 2 3 > SampleNames.txt"
   ]
  },
  {
   "cell_type": "markdown",
   "metadata": {},
   "source": [
    "- Basic Usage of STAR:\n",
    " #STAR --genomeDir --readFilesIn *_1.fastq.gz *_2.fastq.gz --outSAMattributes All --runThreadN --readFilesCommand zcat --outStd SAM | samtools sort > ~/RNASeq/mapping/*.bam\""
   ]
  },
  {
   "cell_type": "code",
   "execution_count": 29,
   "metadata": {
    "scrolled": false
   },
   "outputs": [
    {
     "name": "stdout",
     "output_type": "stream",
     "text": [
      "mkdir: cannot create directory '/home/mlsi/RNASeq/mapping/UHR_2': File exists\n",
      "samtools sort: couldn't allocate memory for bam_mem\n",
      "mkdir: cannot create directory '/home/mlsi/RNASeq/mapping/UHR_1': File exists\n",
      "mkdir: cannot create directory '/home/mlsi/RNASeq/mapping/UHR_3': File exists\n",
      "samtools sort: couldn't allocate memory for bam_mem\n",
      "mkdir: cannot create directory '/home/mlsi/RNASeq/mapping/HBR_1': File exists\n",
      "mkdir: cannot create directory '/home/mlsi/RNASeq/mapping/HBR_2': File exists\n",
      "samtools sort: couldn't allocate memory for bam_mem\n",
      "mkdir: cannot create directory '/home/mlsi/RNASeq/mapping/HBR_3': File exists\n"
     ]
    },
    {
     "ename": "",
     "evalue": "3",
     "output_type": "error",
     "traceback": []
    }
   ],
   "source": [
    "cat /home/mlsi/RNASeq/rawDataTrim/SampleNames.txt | parallel \"mkdir ~/RNASeq/mapping/{}; cd ~/RNASeq/mapping/{} ; STAR --genomeDir /home/mlsi/GenomeIndices --readFilesIn /home/mlsi/RNASeq/rawDataTrim/{}_1.fastq.gz /home/mlsi/RNASeq/rawDataTrim/{}_2.fastq.gz --outSAMattributes All --runThreadN 2 --readFilesCommand zcat --outStd SAM | samtools sort > ~/RNASeq/mapping/{}/{}.bam\""
   ]
  },
  {
   "cell_type": "markdown",
   "metadata": {},
   "source": [
    "- note:\n",
    "  - This problem \" couldn't allocate memory for bam_mem \" was solved by increasing the RAM of the Virutal machine."
   ]
  },
  {
   "cell_type": "markdown",
   "metadata": {},
   "source": [
    "# Data Visualization "
   ]
  },
  {
   "cell_type": "markdown",
   "metadata": {},
   "source": [
    "## Visualization of the genomic data using IGV browser . \n",
    "- IGV is a desktop application for the visualization and interactive exploration of genomic data in the context of a reference genome. A key characteristic of IGV is its focus on the integrative nature of genomic studies. It allows investigators to flexibly visualize many different types of data together—and importantly also integrate these data with the display of sample attribute information such as clinical and phenotypic information. (https://www.ncbi.nlm.nih.gov/pmc/articles/PMC3603213/)\n",
    "- notes :  \n",
    "  - sam and bam files are used then in visualization. \n",
    "  - exons are depicted  in blue bars and the gaps in between are the introns.\n",
    "  - igv browser need a narrow window to detect these reads that’s why we zoom in deep. \n",
    "  - how many reads which cover one specific region ( arrow down in viewing  alignments ).\n",
    "  - if you found difference in just one read then mostly would be an error. "
   ]
  },
  {
   "cell_type": "code",
   "execution_count": null,
   "metadata": {},
   "outputs": [],
   "source": [
    "Length: 116602880 (111M) [application/x-tar]cd HBR_1"
   ]
  },
  {
   "cell_type": "code",
   "execution_count": null,
   "metadata": {},
   "outputs": [],
   "source": [
    "ll"
   ]
  },
  {
   "cell_type": "code",
   "execution_count": null,
   "metadata": {},
   "outputs": [],
   "source": [
    "cat /home/mlsi/RNASeq/rawDataTrim/SampleNames.txt| parallel --eta --verbose \"cd ~ /RNASeq/mapping/{}; find . -name \"{}.bam\" samtools index {}.bam\""
   ]
  },
  {
   "cell_type": "code",
   "execution_count": null,
   "metadata": {},
   "outputs": [],
   "source": [
    "cd~/RNASeq/mapping/UHR_1, find . -name UHR_1.bam; samtools index UHR_1.bam\n",
    "cd~/RNASeq/mapping/UHR_2, find . -name UHR_1.bam; samtools index UHR_2.bam"
   ]
  },
  {
   "cell_type": "markdown",
   "metadata": {},
   "source": [
    "- notes\n",
    "  - cigar save a lot of storage and time 87M for xample stands for 87 matches give you a hint matches and mismatches       and insertion and deletion.\n",
    "  - serching for mutaions via igv browser is not the best way.\n",
    "  - from bam files we do not get which insertion or deletion  but yes or no "
   ]
  },
  {
   "cell_type": "markdown",
   "metadata": {},
   "source": [
    "## Formats other .bam files\n",
    " - The bigWig files are in an indexed binary format. \n",
    " - The main advantage of this format is that only those portions of the file needed to display a particular region are    transferred to the Genome Browser server.\n",
    " - Because of this, bigWig files have considerably faster display performance than regular wiggle files when working      with large data sets.https://genome.ucsc.edu/goldenPath/help/bigWig.html"
   ]
  },
  {
   "cell_type": "code",
   "execution_count": null,
   "metadata": {},
   "outputs": [],
   "source": [
    "conda install ucsc-bedgraphtobigwig"
   ]
  },
  {
   "cell_type": "markdown",
   "metadata": {},
   "source": [
    "#### convert .bam files to bedgraphs"
   ]
  },
  {
   "cell_type": "code",
   "execution_count": null,
   "metadata": {},
   "outputs": [],
   "source": [
    "cat /home/mlsi/RNASeq/rawDataTrim/SampleNames.txt| parallel --eta--verbose \"cd ~/RNASeq/mapping/{} ; bedtools genomecov -ibam {}.bam -g~/GenomeIndices/hg38_chr22.chromosome.sizes -bg | sort -k1,1 -k2,2n >{.}.bedgraph\""
   ]
  },
  {
   "cell_type": "markdown",
   "metadata": {},
   "source": [
    "#### convert bedgraphs to bidwig"
   ]
  },
  {
   "cell_type": "code",
   "execution_count": null,
   "metadata": {},
   "outputs": [],
   "source": [
    "cat /home/mlsi/RNASeq/rawDataTrim/SampleNames.txt| parallel --eta--verbose \"cd ~/RNASeq/mapping/{}; bedGraphToBigWig {}.bedgraph~/GenomeIndices/hg38_chr22.chromosome.sizes/home/mlsi/RNASeq/bigWig/{}.bigwig\"`"
   ]
  },
  {
   "cell_type": "markdown",
   "metadata": {},
   "source": [
    "# Count Table"
   ]
  },
  {
   "cell_type": "markdown",
   "metadata": {},
   "source": [
    "After getting the reads which are alligned to the genome, then we should count how many reads have mapped to each gene.in other words : Given mapped reads in a BAM file and gene locations in a GTF file, then calculates how many reads map to each gene. One of the most popular tools to do this are featureCounts for assigning sequence reads to genomic features. also,HTSeq using own GTF (https://chipster.csc.fi/manual/htseq-count-own-gtf.html). "
   ]
  },
  {
   "cell_type": "code",
   "execution_count": null,
   "metadata": {},
   "outputs": [],
   "source": [
    "featureCounts -a ~/GenomeIndices/chr22_with_ERCC92.gtf -g gene_name -o /home/mlsi/RNASeq/countTable/featureCounts.txt ~/RNASeq/mapping/*/*.bam"
   ]
  },
  {
   "cell_type": "markdown",
   "metadata": {},
   "source": [
    "- featureCounts:\n",
    "  -  program suitable for counting reads generated from either RNA or genomic DNA sequencing experiments. \n",
    "  -  implements highly efficient chromosome hashing and feature blocking techniques. \n",
    "  -  It is considerably faster than existing methods (by an order of magnitude for gene-level summarization) and   requires far less computer memory. \n",
    "  - It works with either single or paired-end reads and provides a wide range of options appropriate for different  sequencing applications. (https://www.ncbi.nlm.nih.gov/pubmed/24227677)"
   ]
  },
  {
   "cell_type": "code",
   "execution_count": 7,
   "metadata": {},
   "outputs": [],
   "source": [
    "cd /home/mlsi/RNASeq/countTable"
   ]
  },
  {
   "cell_type": "code",
   "execution_count": 3,
   "metadata": {},
   "outputs": [
    {
     "name": "stdout",
     "output_type": "stream",
     "text": [
      "featureCounts.txt  featureCounts.txt.summary\n"
     ]
    }
   ],
   "source": [
    "ls"
   ]
  },
  {
   "cell_type": "code",
   "execution_count": 4,
   "metadata": {},
   "outputs": [
    {
     "name": "stdout",
     "output_type": "stream",
     "text": [
      "# Program:featureCounts v1.6.4; Command:\"featureCounts\" \"-a\" \"/home/mlsi/GenomeIndices/chr22_with_ERCC92.gtf\" \"-g\" \"gene_name\" \"-o\" \"/home/mlsi/RNASeq/countTable/featureCounts.txt\" \"/home/mlsi/RNASeq/mapping/HBR_1/HBR_1.bam\" \"/home/mlsi/RNASeq/mapping/HBR_2/HBR_2.bam\" \"/home/mlsi/RNASeq/mapping/HBR_3/HBR_3.bam\" \"/home/mlsi/RNASeq/mapping/UHR_1/UHR_1.bam\" \"/home/mlsi/RNASeq/mapping/UHR_2/UHR_2.bam\" \"/home/mlsi/RNASeq/mapping/UHR_3/UHR_3.bam\" \n",
      "Geneid\tChr\tStart\tEnd\tStrand\tLength\t/home/mlsi/RNASeq/mapping/HBR_1/HBR_1.bam\t/home/mlsi/RNASeq/mapping/HBR_2/HBR_2.bam\t/home/mlsi/RNASeq/mapping/HBR_3/HBR_3.bam\t/home/mlsi/RNASeq/mapping/UHR_1/UHR_1.bam\t/home/mlsi/RNASeq/mapping/UHR_2/UHR_2.bam\t/home/mlsi/RNASeq/mapping/UHR_3/UHR_3.bam\n",
      "cat: write error: Broken pipe\n"
     ]
    }
   ],
   "source": [
    "cat featureCounts.txt | head -2"
   ]
  },
  {
   "cell_type": "markdown",
   "metadata": {},
   "source": [
    "- In this case, the counts.txt file will contain a column for each of the samples, for a total of 13 columns. \n",
    "- The column names are : Geneid, Chr, Start, End, Strand Length,...\t"
   ]
  },
  {
   "cell_type": "code",
   "execution_count": 8,
   "metadata": {},
   "outputs": [
    {
     "name": "stdout",
     "output_type": "stream",
     "text": [
      "ERCC-00002\tERCC-00002\t1\t1061\t+\t1061\t35528\t43602\t39442\t38532\t24086\t31668\n",
      "ERCC-00074\tERCC-00074\t1\t522\t+\t522\t19560\t22912\t21320\t30074\t21414\t24410\n",
      "ERCC-00096\tERCC-00096\t1\t1107\t+\t1107\t19444\t23814\t21058\t42538\t26930\t33888\n",
      "sort: write failed: 'standard output': Broken pipe\n",
      "sort: write error\n"
     ]
    }
   ],
   "source": [
    "cat featureCounts.txt | sort -rn -k 7 | head -3"
   ]
  },
  {
   "cell_type": "markdown",
   "metadata": {},
   "source": [
    "- Observation : the counts in the last column correlate very closely with the expected abundances for Mix2 in the ECC Mix file."
   ]
  },
  {
   "cell_type": "markdown",
   "metadata": {},
   "source": [
    "#### Now we will proceed with our pipeline in Rstudio"
   ]
  }
 ],
 "metadata": {
  "kernelspec": {
   "display_name": "Bash",
   "language": "bash",
   "name": "bash"
  },
  "language_info": {
   "codemirror_mode": "shell",
   "file_extension": ".sh",
   "mimetype": "text/x-sh",
   "name": "bash"
  }
 },
 "nbformat": 4,
 "nbformat_minor": 2
}
